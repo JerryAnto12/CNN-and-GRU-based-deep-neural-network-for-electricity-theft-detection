{
 "cells": [
  {
   "cell_type": "markdown",
   "id": "ad7b7273",
   "metadata": {},
   "source": [
    "### importing necessary packages"
   ]
  },
  {
   "cell_type": "code",
   "execution_count": 1,
   "id": "b71d31a0",
   "metadata": {},
   "outputs": [],
   "source": [
    "import pandas as pd\n",
    "import numpy as np\n",
    "from sklearn.ensemble import RandomForestRegressor\n",
    "import matplotlib.pyplot as plt\n",
    "from sklearn.feature_selection import SelectKBest\n",
    "from sklearn.feature_selection import chi2\n",
    "from sklearn.model_selection import train_test_split\n",
    "import keras\n",
    "from tensorflow.keras.callbacks import EarlyStopping\n",
    "import tensorflow"
   ]
  },
  {
   "cell_type": "code",
   "execution_count": 2,
   "id": "668d8bc7",
   "metadata": {},
   "outputs": [],
   "source": [
    "import pandas as pd\n",
    "import numpy as np\n",
    "from sklearn.ensemble import RandomForestRegressor\n",
    "import matplotlib.pyplot as plt\n",
    "from sklearn.feature_selection import SelectKBest\n",
    "from sklearn.feature_selection import chi2\n",
    "from sklearn.model_selection import train_test_split\n",
    "import keras\n",
    "from tensorflow.keras.callbacks import EarlyStopping\n",
    "import tensorflow\n",
    "from keras.layers import Conv1D, MaxPooling1D, GRU, Flatten, Dense\n",
    "from keras.models import Sequential\n",
    "from tensorflow.keras.layers import Dropout"
   ]
  },
  {
   "cell_type": "markdown",
   "id": "68902633",
   "metadata": {},
   "source": [
    "### Definations"
   ]
  },
  {
   "cell_type": "markdown",
   "id": "999ade77",
   "metadata": {},
   "source": [
    "###  Six different types of frauds are present in this dataset.\n",
    "#### 1) The first type of theft consists of a considerable reduction of electricity consumption during the day. This reduction is calculated by multiplying the consumption by the randomly chosen value between 0.1 and 0.8. \n",
    "#### 2) In the second type of theft, electricity consumption drops to zero at random and during an arbitrary period.\n",
    "#### 3) The third type of theft is similar to the first type, but each consumption value (each hour) is multiplied by a random number.\n",
    "#### 4) A random fraction of the mean consumption is generated for the fourth type of theft.\n",
    "#### 5) The fifth type reports the mean consumption, and \n",
    "#### 6) The last type of theft (i.e., the sixth type) reverses the order of readings. "
   ]
  },
  {
   "cell_type": "markdown",
   "id": "f9ad1041",
   "metadata": {},
   "source": [
    "### Feature Explanations\n",
    "#### Electricity:Facility kW: This attribute represents the total electricity consumption of the building, including lighting, appliances, and other electrical systems.\n",
    "\n",
    "#### Fans:Electricity kW: This attribute represents the electricity consumption of fans used for ventilation or cooling purposes.\n",
    "\n",
    "#### Cooling:Electricity kW: This attribute represents the electricity consumption of cooling systems such as air conditioners or refrigeration units.\n",
    "\n",
    "#### Heating:Electricity kW: This attribute represents the electricity consumption of heating systems such as electric heaters or heat pumps.\n",
    "\n",
    "#### InteriorLights:Electricity kW: This attribute represents the electricity consumption of all interior lights within the building.\n",
    "\n",
    "#### InteriorEquipment:Electricity kW: This attribute represents the electricity consumption of all other interior equipment within the building, such as computers, printers, and other electrical appliances.\n",
    "\n",
    "#### Gas:Facility kW: This attribute represents the total gas consumption of the building, including heating and other gas appliances.\n",
    "\n",
    "#### Heating:Gas kW: This attribute represents the gas consumption of heating systems such as furnaces or boilers.\n",
    "\n",
    "#### InteriorEquipment:Gas kW: This attribute represents the gas consumption of all other gas equipment within the building, such as kitchen appliances.\n",
    "\n",
    "#### Water Heater:WaterSystems:Gas kW: This attribute represents the gas consumption of the building's water heating system.\n",
    "\n",
    "###  Why gas consumption taken into consideration?\n",
    "#### It is common practice in energy analysis to include gas consumption along with electricity consumption, as gas is also a major energy source used in many buildings for heating, hot water, cooking, and other purposes.\n",
    "\n",
    "#### In the case of electricity theft detection, it is possible that a building's electricity consumption may be underreported or manipulated in some way to avoid detection, but gas consumption may still be a reliable indicator of the building's actual energy usage. By including both electricity and gas consumption in the analysis, it may be easier to detect anomalies or suspicious patterns of energy consumption that could be indicative of electricity theft.\n",
    "\n",
    "#### Additionally, some methods of electricity theft involve tampering with the gas meter to avoid detection of the stolen electricity. In such cases, monitoring gas consumption along with electricity consumption can help identify discrepancies that may indicate theft. Therefore, gas consumption can be a valuable attribute to consider in the context of electricity theft detection.\n",
    "\n"
   ]
  },
  {
   "cell_type": "markdown",
   "id": "b321a972",
   "metadata": {},
   "source": [
    "### loading dataset"
   ]
  },
  {
   "cell_type": "code",
   "execution_count": 3,
   "id": "e64dfdda",
   "metadata": {},
   "outputs": [],
   "source": [
    "df1 = pd.read_csv('df.csv') "
   ]
  },
  {
   "cell_type": "markdown",
   "id": "fb9374a5",
   "metadata": {},
   "source": [
    "### Preprocessing"
   ]
  },
  {
   "cell_type": "code",
   "execution_count": 18,
   "id": "a03cd83f",
   "metadata": {},
   "outputs": [
    {
     "data": {
      "text/plain": [
       "0                                             0\n",
       "Electricity:Facility [kW](Hourly)             0\n",
       "Fans:Electricity [kW](Hourly)                 0\n",
       "Cooling:Electricity [kW](Hourly)              0\n",
       "Heating:Electricity [kW](Hourly)              0\n",
       "InteriorLights:Electricity [kW](Hourly)       0\n",
       "InteriorEquipment:Electricity [kW](Hourly)    0\n",
       "Gas:Facility [kW](Hourly)                     0\n",
       "Heating:Gas [kW](Hourly)                      0\n",
       "InteriorEquipment:Gas [kW](Hourly)            0\n",
       "Water Heater:WaterSystems:Gas [kW](Hourly)    0\n",
       "Class                                         0\n",
       "theft                                         0\n",
       "dtype: int64"
      ]
     },
     "execution_count": 18,
     "metadata": {},
     "output_type": "execute_result"
    }
   ],
   "source": [
    "df1.isnull().sum()"
   ]
  },
  {
   "cell_type": "code",
   "execution_count": 20,
   "id": "24f0ec95",
   "metadata": {},
   "outputs": [
    {
     "data": {
      "text/plain": [
       "0                                               int64\n",
       "Electricity:Facility [kW](Hourly)             float64\n",
       "Fans:Electricity [kW](Hourly)                 float64\n",
       "Cooling:Electricity [kW](Hourly)              float64\n",
       "Heating:Electricity [kW](Hourly)              float64\n",
       "InteriorLights:Electricity [kW](Hourly)       float64\n",
       "InteriorEquipment:Electricity [kW](Hourly)    float64\n",
       "Gas:Facility [kW](Hourly)                     float64\n",
       "Heating:Gas [kW](Hourly)                      float64\n",
       "InteriorEquipment:Gas [kW](Hourly)            float64\n",
       "Water Heater:WaterSystems:Gas [kW](Hourly)    float64\n",
       "Class                                           int32\n",
       "theft                                           int32\n",
       "dtype: object"
      ]
     },
     "execution_count": 20,
     "metadata": {},
     "output_type": "execute_result"
    }
   ],
   "source": [
    "df1.dtypes"
   ]
  },
  {
   "cell_type": "code",
   "execution_count": 22,
   "id": "43f60e50",
   "metadata": {},
   "outputs": [
    {
     "data": {
      "text/plain": [
       "(560655, 13)"
      ]
     },
     "execution_count": 22,
     "metadata": {},
     "output_type": "execute_result"
    }
   ],
   "source": [
    "df1.shape"
   ]
  },
  {
   "cell_type": "code",
   "execution_count": 23,
   "id": "071b5edb",
   "metadata": {},
   "outputs": [
    {
     "data": {
      "text/plain": [
       "7288515"
      ]
     },
     "execution_count": 23,
     "metadata": {},
     "output_type": "execute_result"
    }
   ],
   "source": [
    "df1.size"
   ]
  },
  {
   "cell_type": "code",
   "execution_count": 5,
   "id": "8ad2a7a5",
   "metadata": {},
   "outputs": [
    {
     "data": {
      "text/html": [
       "<div>\n",
       "<style scoped>\n",
       "    .dataframe tbody tr th:only-of-type {\n",
       "        vertical-align: middle;\n",
       "    }\n",
       "\n",
       "    .dataframe tbody tr th {\n",
       "        vertical-align: top;\n",
       "    }\n",
       "\n",
       "    .dataframe thead th {\n",
       "        text-align: right;\n",
       "    }\n",
       "</style>\n",
       "<table border=\"1\" class=\"dataframe\">\n",
       "  <thead>\n",
       "    <tr style=\"text-align: right;\">\n",
       "      <th></th>\n",
       "      <th>0</th>\n",
       "      <th>Electricity:Facility [kW](Hourly)</th>\n",
       "      <th>Fans:Electricity [kW](Hourly)</th>\n",
       "      <th>Cooling:Electricity [kW](Hourly)</th>\n",
       "      <th>Heating:Electricity [kW](Hourly)</th>\n",
       "      <th>InteriorLights:Electricity [kW](Hourly)</th>\n",
       "      <th>InteriorEquipment:Electricity [kW](Hourly)</th>\n",
       "      <th>Gas:Facility [kW](Hourly)</th>\n",
       "      <th>Heating:Gas [kW](Hourly)</th>\n",
       "      <th>InteriorEquipment:Gas [kW](Hourly)</th>\n",
       "      <th>Water Heater:WaterSystems:Gas [kW](Hourly)</th>\n",
       "      <th>Class</th>\n",
       "      <th>theft</th>\n",
       "    </tr>\n",
       "  </thead>\n",
       "  <tbody>\n",
       "    <tr>\n",
       "      <th>0</th>\n",
       "      <td>0</td>\n",
       "      <td>22.035977</td>\n",
       "      <td>3.586221</td>\n",
       "      <td>0.0</td>\n",
       "      <td>0.0</td>\n",
       "      <td>4.589925</td>\n",
       "      <td>8.1892</td>\n",
       "      <td>136.585903</td>\n",
       "      <td>123.999076</td>\n",
       "      <td>3.33988</td>\n",
       "      <td>9.246947</td>\n",
       "      <td>FullServiceRestaurant</td>\n",
       "      <td>Normal</td>\n",
       "    </tr>\n",
       "    <tr>\n",
       "      <th>1</th>\n",
       "      <td>1</td>\n",
       "      <td>14.649757</td>\n",
       "      <td>0.000000</td>\n",
       "      <td>0.0</td>\n",
       "      <td>0.0</td>\n",
       "      <td>1.529975</td>\n",
       "      <td>7.4902</td>\n",
       "      <td>3.359880</td>\n",
       "      <td>0.000000</td>\n",
       "      <td>3.33988</td>\n",
       "      <td>0.020000</td>\n",
       "      <td>FullServiceRestaurant</td>\n",
       "      <td>Normal</td>\n",
       "    </tr>\n",
       "    <tr>\n",
       "      <th>2</th>\n",
       "      <td>2</td>\n",
       "      <td>14.669567</td>\n",
       "      <td>0.000000</td>\n",
       "      <td>0.0</td>\n",
       "      <td>0.0</td>\n",
       "      <td>1.529975</td>\n",
       "      <td>7.4902</td>\n",
       "      <td>3.359880</td>\n",
       "      <td>0.000000</td>\n",
       "      <td>3.33988</td>\n",
       "      <td>0.020000</td>\n",
       "      <td>FullServiceRestaurant</td>\n",
       "      <td>Normal</td>\n",
       "    </tr>\n",
       "    <tr>\n",
       "      <th>3</th>\n",
       "      <td>3</td>\n",
       "      <td>14.677808</td>\n",
       "      <td>0.000000</td>\n",
       "      <td>0.0</td>\n",
       "      <td>0.0</td>\n",
       "      <td>1.529975</td>\n",
       "      <td>7.4902</td>\n",
       "      <td>3.931932</td>\n",
       "      <td>0.000000</td>\n",
       "      <td>3.33988</td>\n",
       "      <td>0.592052</td>\n",
       "      <td>FullServiceRestaurant</td>\n",
       "      <td>Normal</td>\n",
       "    </tr>\n",
       "    <tr>\n",
       "      <th>4</th>\n",
       "      <td>4</td>\n",
       "      <td>14.824794</td>\n",
       "      <td>0.000000</td>\n",
       "      <td>0.0</td>\n",
       "      <td>0.0</td>\n",
       "      <td>1.529975</td>\n",
       "      <td>7.4902</td>\n",
       "      <td>3.359880</td>\n",
       "      <td>0.000000</td>\n",
       "      <td>3.33988</td>\n",
       "      <td>0.020000</td>\n",
       "      <td>FullServiceRestaurant</td>\n",
       "      <td>Normal</td>\n",
       "    </tr>\n",
       "  </tbody>\n",
       "</table>\n",
       "</div>"
      ],
      "text/plain": [
       "   0  Electricity:Facility [kW](Hourly)  Fans:Electricity [kW](Hourly)  \\\n",
       "0  0                          22.035977                       3.586221   \n",
       "1  1                          14.649757                       0.000000   \n",
       "2  2                          14.669567                       0.000000   \n",
       "3  3                          14.677808                       0.000000   \n",
       "4  4                          14.824794                       0.000000   \n",
       "\n",
       "   Cooling:Electricity [kW](Hourly)  Heating:Electricity [kW](Hourly)  \\\n",
       "0                               0.0                               0.0   \n",
       "1                               0.0                               0.0   \n",
       "2                               0.0                               0.0   \n",
       "3                               0.0                               0.0   \n",
       "4                               0.0                               0.0   \n",
       "\n",
       "   InteriorLights:Electricity [kW](Hourly)  \\\n",
       "0                                 4.589925   \n",
       "1                                 1.529975   \n",
       "2                                 1.529975   \n",
       "3                                 1.529975   \n",
       "4                                 1.529975   \n",
       "\n",
       "   InteriorEquipment:Electricity [kW](Hourly)  Gas:Facility [kW](Hourly)  \\\n",
       "0                                      8.1892                 136.585903   \n",
       "1                                      7.4902                   3.359880   \n",
       "2                                      7.4902                   3.359880   \n",
       "3                                      7.4902                   3.931932   \n",
       "4                                      7.4902                   3.359880   \n",
       "\n",
       "   Heating:Gas [kW](Hourly)  InteriorEquipment:Gas [kW](Hourly)  \\\n",
       "0                123.999076                             3.33988   \n",
       "1                  0.000000                             3.33988   \n",
       "2                  0.000000                             3.33988   \n",
       "3                  0.000000                             3.33988   \n",
       "4                  0.000000                             3.33988   \n",
       "\n",
       "   Water Heater:WaterSystems:Gas [kW](Hourly)                  Class   theft  \n",
       "0                                    9.246947  FullServiceRestaurant  Normal  \n",
       "1                                    0.020000  FullServiceRestaurant  Normal  \n",
       "2                                    0.020000  FullServiceRestaurant  Normal  \n",
       "3                                    0.592052  FullServiceRestaurant  Normal  \n",
       "4                                    0.020000  FullServiceRestaurant  Normal  "
      ]
     },
     "execution_count": 5,
     "metadata": {},
     "output_type": "execute_result"
    }
   ],
   "source": [
    "df1.head()"
   ]
  },
  {
   "cell_type": "code",
   "execution_count": 7,
   "id": "9fdcaca6",
   "metadata": {},
   "outputs": [
    {
     "data": {
      "text/plain": [
       "FullServiceRestaurant     35040\n",
       "SecondarySchool           35040\n",
       "Warehouse                 35040\n",
       "SuperMarket               35040\n",
       "StripMall                 35040\n",
       "Stand-aloneRetail         35040\n",
       "SmallOffice               35040\n",
       "SmallHotel                35040\n",
       "QuickServiceRestaurant    35040\n",
       "Hospital                  35040\n",
       "PrimarySchool             35040\n",
       "OutPatient                35040\n",
       "MidriseApartment          35040\n",
       "MediumOffice              35040\n",
       "LargeOffice               35040\n",
       "LargeHotel                35040\n",
       "0                            15\n",
       "Name: Class, dtype: int64"
      ]
     },
     "execution_count": 7,
     "metadata": {},
     "output_type": "execute_result"
    }
   ],
   "source": [
    "df1['Class'].value_counts()"
   ]
  },
  {
   "cell_type": "code",
   "execution_count": 9,
   "id": "9893dc95",
   "metadata": {},
   "outputs": [
    {
     "data": {
      "text/plain": [
       "Normal    331824\n",
       "Theft1     51083\n",
       "Theft3     44349\n",
       "Theft4     41460\n",
       "Theft6     35413\n",
       "Theft5     33553\n",
       "Theft2     22973\n",
       "Name: theft, dtype: int64"
      ]
     },
     "execution_count": 9,
     "metadata": {},
     "output_type": "execute_result"
    }
   ],
   "source": [
    "df1['theft'].value_counts()"
   ]
  },
  {
   "cell_type": "markdown",
   "id": "266019c5",
   "metadata": {},
   "source": [
    "### Convering categorical value into numerical"
   ]
  },
  {
   "cell_type": "code",
   "execution_count": 10,
   "id": "f2ba3991",
   "metadata": {},
   "outputs": [],
   "source": [
    "from sklearn.preprocessing import LabelEncoder\n",
    "\n",
    "le = LabelEncoder()\n",
    "df1['theft'] = le.fit_transform(df1['theft']) "
   ]
  },
  {
   "cell_type": "code",
   "execution_count": 11,
   "id": "51696b78",
   "metadata": {},
   "outputs": [],
   "source": [
    "df1['Class'] = le.fit_transform(df1['Class']) "
   ]
  },
  {
   "cell_type": "markdown",
   "id": "fd3fb142",
   "metadata": {},
   "source": [
    "### Sampling"
   ]
  },
  {
   "cell_type": "code",
   "execution_count": 13,
   "id": "3050bdcd",
   "metadata": {},
   "outputs": [],
   "source": [
    "df_0 = df1[df1['theft']==0]\n",
    "df_1 = df1[df1['theft']==1]\n",
    "df_2 = df1[df1['theft']==2]\n",
    "df_3 = df1[df1['theft']==3]\n",
    "df_4 = df1[df1['theft']==4]\n",
    "df_5 = df1[df1['theft']==5]\n",
    "df_6 = df1[df1['theft']==6]"
   ]
  },
  {
   "cell_type": "code",
   "execution_count": 14,
   "id": "63cc73dd",
   "metadata": {},
   "outputs": [],
   "source": [
    "df_0_sampled = df_0.sample(51083)\n",
    "df_1_sampled = df_1.sample(51083,replace=True)\n",
    "df_2_sampled = df_2.sample(51083,replace=True)\n",
    "df_3_sampled = df_3.sample(51083,replace=True)\n",
    "df_4_sampled = df_4.sample(51083,replace=True)\n",
    "df_5_sampled = df_5.sample(51083,replace=True)\n",
    "df_6_sampled = df_6.sample(51083,replace=True)\n"
   ]
  },
  {
   "cell_type": "code",
   "execution_count": 39,
   "id": "f1ea98c3",
   "metadata": {},
   "outputs": [
    {
     "data": {
      "text/plain": [
       "4648553"
      ]
     },
     "execution_count": 39,
     "metadata": {},
     "output_type": "execute_result"
    }
   ],
   "source": [
    "df_balanced = pd.concat([df_0_sampled,df_1_sampled,df_2_sampled,df_3_sampled,df_4_sampled,df_5_sampled,df_6_sampled])\n",
    "df_balanced.size"
   ]
  },
  {
   "cell_type": "markdown",
   "id": "5a30df5a",
   "metadata": {},
   "source": [
    "### Feature Importance"
   ]
  },
  {
   "cell_type": "code",
   "execution_count": 28,
   "id": "5eb7ac8d",
   "metadata": {},
   "outputs": [],
   "source": [
    "X=df_balanced.drop([\"0\",\"theft\"],axis=1)\n",
    "y=df_balanced.pop(\"theft\")"
   ]
  },
  {
   "cell_type": "code",
   "execution_count": 30,
   "id": "ef9a61b4",
   "metadata": {},
   "outputs": [],
   "source": [
    "rf = RandomForestRegressor(n_estimators=13,random_state=42)\n",
    "rf.fit(X1, y1)\n",
    "\n",
    "# Calculate feature importances\n",
    "importances = rf.feature_importances_\n",
    "\n",
    "# Sort the features by importance in descending order\n",
    "indices = np.argsort(importances)[::-1]"
   ]
  },
  {
   "cell_type": "code",
   "execution_count": 31,
   "id": "d36f7efd",
   "metadata": {},
   "outputs": [
    {
     "name": "stdout",
     "output_type": "stream",
     "text": [
      "Feature ranking:\n",
      "1. feature Electricity:Facility [kW](Hourly) (0.17854386510016534)\n",
      "2. feature Fans:Electricity [kW](Hourly) (0.16447075094742022)\n",
      "3. feature Water Heater:WaterSystems:Gas [kW](Hourly) (0.1297196717048767)\n",
      "4. feature Gas:Facility [kW](Hourly) (0.1011494280213716)\n",
      "5. feature Cooling:Electricity [kW](Hourly) (0.09437147316178612)\n",
      "6. feature InteriorLights:Electricity [kW](Hourly) (0.08710579032359786)\n",
      "7. feature InteriorEquipment:Electricity [kW](Hourly) (0.08460868111363959)\n",
      "8. feature Heating:Gas [kW](Hourly) (0.07214892587586315)\n",
      "9. feature InteriorEquipment:Gas [kW](Hourly) (0.05465618466893133)\n",
      "10. feature Heating:Electricity [kW](Hourly) (0.016707151710190105)\n",
      "11. feature Class (0.01651807737215786)\n"
     ]
    }
   ],
   "source": [
    "print(\"Feature ranking:\")\n",
    "for f in range(X.shape[1]):\n",
    "    print(f\"{f+1}. feature {X.columns[indices[f]]} ({importances[indices[f]]})\")"
   ]
  },
  {
   "cell_type": "code",
   "execution_count": 32,
   "id": "622773a6",
   "metadata": {},
   "outputs": [
    {
     "data": {
      "image/png": "[encoded data removed]",
      "text/plain": [
       "<Figure size 432x288 with 1 Axes>"
      ]
     },
     "metadata": {
      "needs_background": "light"
     },
     "output_type": "display_data"
    }
   ],
   "source": [
    "# Plot the feature importances\n",
    "plt.figure()\n",
    "plt.title(\"Feature importances\")\n",
    "plt.bar(range(X.shape[1]), importances[indices], color=\"r\", align=\"center\")\n",
    "plt.xticks(range(X.shape[1]), X.columns[indices], rotation=90)\n",
    "plt.xlim([-1, X.shape[1]])\n",
    "plt.show()"
   ]
  },
  {
   "cell_type": "code",
   "execution_count": 40,
   "id": "4ef01dcd",
   "metadata": {},
   "outputs": [],
   "source": [
    "imp_fea3 = pd.DataFrame(df_balanced.drop([\"0\",\"Class\",\"Heating:Electricity [kW](Hourly)\"],axis=1))"
   ]
  },
  {
   "cell_type": "code",
   "execution_count": 41,
   "id": "3a22d3ee",
   "metadata": {},
   "outputs": [
    {
     "data": {
      "text/html": [
       "<div>\n",
       "<style scoped>\n",
       "    .dataframe tbody tr th:only-of-type {\n",
       "        vertical-align: middle;\n",
       "    }\n",
       "\n",
       "    .dataframe tbody tr th {\n",
       "        vertical-align: top;\n",
       "    }\n",
       "\n",
       "    .dataframe thead th {\n",
       "        text-align: right;\n",
       "    }\n",
       "</style>\n",
       "<table border=\"1\" class=\"dataframe\">\n",
       "  <thead>\n",
       "    <tr style=\"text-align: right;\">\n",
       "      <th></th>\n",
       "      <th>Electricity:Facility [kW](Hourly)</th>\n",
       "      <th>Fans:Electricity [kW](Hourly)</th>\n",
       "      <th>Cooling:Electricity [kW](Hourly)</th>\n",
       "      <th>InteriorLights:Electricity [kW](Hourly)</th>\n",
       "      <th>InteriorEquipment:Electricity [kW](Hourly)</th>\n",
       "      <th>Gas:Facility [kW](Hourly)</th>\n",
       "      <th>Heating:Gas [kW](Hourly)</th>\n",
       "      <th>InteriorEquipment:Gas [kW](Hourly)</th>\n",
       "      <th>Water Heater:WaterSystems:Gas [kW](Hourly)</th>\n",
       "      <th>theft</th>\n",
       "    </tr>\n",
       "  </thead>\n",
       "  <tbody>\n",
       "    <tr>\n",
       "      <th>63879</th>\n",
       "      <td>161.641569</td>\n",
       "      <td>5.857700</td>\n",
       "      <td>0.000000</td>\n",
       "      <td>80.527626</td>\n",
       "      <td>73.092045</td>\n",
       "      <td>137.768585</td>\n",
       "      <td>128.800697</td>\n",
       "      <td>3.205680</td>\n",
       "      <td>5.762208</td>\n",
       "      <td>0</td>\n",
       "    </tr>\n",
       "    <tr>\n",
       "      <th>291243</th>\n",
       "      <td>1017.639700</td>\n",
       "      <td>97.516333</td>\n",
       "      <td>361.829775</td>\n",
       "      <td>166.938926</td>\n",
       "      <td>191.613659</td>\n",
       "      <td>391.147202</td>\n",
       "      <td>316.985988</td>\n",
       "      <td>56.646700</td>\n",
       "      <td>17.514514</td>\n",
       "      <td>0</td>\n",
       "    </tr>\n",
       "    <tr>\n",
       "      <th>66876</th>\n",
       "      <td>40.002228</td>\n",
       "      <td>0.000000</td>\n",
       "      <td>0.000000</td>\n",
       "      <td>15.863942</td>\n",
       "      <td>22.030085</td>\n",
       "      <td>6.091012</td>\n",
       "      <td>0.000000</td>\n",
       "      <td>3.205680</td>\n",
       "      <td>2.885332</td>\n",
       "      <td>0</td>\n",
       "    </tr>\n",
       "    <tr>\n",
       "      <th>258161</th>\n",
       "      <td>68.697239</td>\n",
       "      <td>9.127270</td>\n",
       "      <td>18.642580</td>\n",
       "      <td>32.837857</td>\n",
       "      <td>8.089532</td>\n",
       "      <td>0.000000</td>\n",
       "      <td>0.000000</td>\n",
       "      <td>0.000000</td>\n",
       "      <td>0.000000</td>\n",
       "      <td>0</td>\n",
       "    </tr>\n",
       "    <tr>\n",
       "      <th>430682</th>\n",
       "      <td>1466.375390</td>\n",
       "      <td>101.598209</td>\n",
       "      <td>563.920026</td>\n",
       "      <td>243.259307</td>\n",
       "      <td>310.109712</td>\n",
       "      <td>539.198270</td>\n",
       "      <td>429.716458</td>\n",
       "      <td>70.808375</td>\n",
       "      <td>38.673438</td>\n",
       "      <td>0</td>\n",
       "    </tr>\n",
       "  </tbody>\n",
       "</table>\n",
       "</div>"
      ],
      "text/plain": [
       "        Electricity:Facility [kW](Hourly)  Fans:Electricity [kW](Hourly)  \\\n",
       "63879                          161.641569                       5.857700   \n",
       "291243                        1017.639700                      97.516333   \n",
       "66876                           40.002228                       0.000000   \n",
       "258161                          68.697239                       9.127270   \n",
       "430682                        1466.375390                     101.598209   \n",
       "\n",
       "        Cooling:Electricity [kW](Hourly)  \\\n",
       "63879                           0.000000   \n",
       "291243                        361.829775   \n",
       "66876                           0.000000   \n",
       "258161                         18.642580   \n",
       "430682                        563.920026   \n",
       "\n",
       "        InteriorLights:Electricity [kW](Hourly)  \\\n",
       "63879                                 80.527626   \n",
       "291243                               166.938926   \n",
       "66876                                 15.863942   \n",
       "258161                                32.837857   \n",
       "430682                               243.259307   \n",
       "\n",
       "        InteriorEquipment:Electricity [kW](Hourly)  Gas:Facility [kW](Hourly)  \\\n",
       "63879                                    73.092045                 137.768585   \n",
       "291243                                  191.613659                 391.147202   \n",
       "66876                                    22.030085                   6.091012   \n",
       "258161                                    8.089532                   0.000000   \n",
       "430682                                  310.109712                 539.198270   \n",
       "\n",
       "        Heating:Gas [kW](Hourly)  InteriorEquipment:Gas [kW](Hourly)  \\\n",
       "63879                 128.800697                            3.205680   \n",
       "291243                316.985988                           56.646700   \n",
       "66876                   0.000000                            3.205680   \n",
       "258161                  0.000000                            0.000000   \n",
       "430682                429.716458                           70.808375   \n",
       "\n",
       "        Water Heater:WaterSystems:Gas [kW](Hourly)  theft  \n",
       "63879                                     5.762208      0  \n",
       "291243                                   17.514514      0  \n",
       "66876                                     2.885332      0  \n",
       "258161                                    0.000000      0  \n",
       "430682                                   38.673438      0  "
      ]
     },
     "execution_count": 41,
     "metadata": {},
     "output_type": "execute_result"
    }
   ],
   "source": [
    "imp_fea3.head()\n"
   ]
  },
  {
   "cell_type": "code",
   "execution_count": 42,
   "id": "345d92c1",
   "metadata": {},
   "outputs": [
    {
     "name": "stdout",
     "output_type": "stream",
     "text": [
      "(357581, 10)\n",
      "3575810\n"
     ]
    }
   ],
   "source": [
    "print(imp_fea3.shape)\n",
    "print(imp_fea3.size)"
   ]
  },
  {
   "cell_type": "markdown",
   "id": "28446e1d",
   "metadata": {},
   "source": [
    "### Scaling the data"
   ]
  },
  {
   "cell_type": "code",
   "execution_count": 43,
   "id": "16d5c5cb",
   "metadata": {},
   "outputs": [],
   "source": [
    "X3=imp_fea3.drop([\"theft\"],axis=1)\n",
    "y3=imp_fea3.pop(\"theft\")"
   ]
  },
  {
   "cell_type": "code",
   "execution_count": 45,
   "id": "9ac934a5",
   "metadata": {},
   "outputs": [],
   "source": [
    "from sklearn.preprocessing import MinMaxScaler\n",
    "\n",
    "# Create the scaler object\n",
    "scaler = MinMaxScaler()\n",
    "\n",
    "# Fit and transform the data\n",
    "X_normalized = scaler.fit_transform(X3)"
   ]
  },
  {
   "cell_type": "markdown",
   "id": "8fe31188",
   "metadata": {},
   "source": [
    "### Model Creation"
   ]
  },
  {
   "cell_type": "code",
   "execution_count": 46,
   "id": "c724f9e2",
   "metadata": {},
   "outputs": [
    {
     "name": "stdout",
     "output_type": "stream",
     "text": [
      "n_timesteps 286064\n"
     ]
    }
   ],
   "source": [
    "x_train,x_test,y_train,y_test=train_test_split(X_normalized, y3, test_size=0.20, random_state=42)\n",
    "x_train_array=np.asarray(x_train)\n",
    "x_train_t = x_train_array.reshape(-1, x_train_array.shape[1], 1)\n",
    "x_test_array=np.asarray(x_test)\n",
    "x_test_t = x_test_array.reshape(-1, x_test_array.shape[1], 1)\n",
    "y_train_array=np.asarray(y_train)\n",
    "y_test_array=np.asarray(y_test)\n",
    "train_labels = keras.utils.to_categorical(y_train_array)\n",
    "test_labels = keras.utils.to_categorical(y_test_array)\n",
    "n_timesteps, n_features = x_train.shape\n",
    "print(\"n_timesteps\",n_timesteps)"
   ]
  },
  {
   "cell_type": "code",
   "execution_count": 50,
   "id": "c7adc729",
   "metadata": {},
   "outputs": [
    {
     "name": "stdout",
     "output_type": "stream",
     "text": [
      "Model: \"sequential_2\"\n",
      "_________________________________________________________________\n",
      " Layer (type)                Output Shape              Param #   \n",
      "=================================================================\n",
      " conv1d_4 (Conv1D)           (None, 7, 64)             256       \n",
      "                                                                 \n",
      " conv1d_5 (Conv1D)           (None, 5, 64)             12352     \n",
      "                                                                 \n",
      " gru_6 (GRU)                 (None, 5, 128)            74496     \n",
      "                                                                 \n",
      " gru_7 (GRU)                 (None, 5, 128)            99072     \n",
      "                                                                 \n",
      " gru_8 (GRU)                 (None, 128)               99072     \n",
      "                                                                 \n",
      " dense_2 (Dense)             (None, 7)                 903       \n",
      "                                                                 \n",
      "=================================================================\n",
      "Total params: 286,151\n",
      "Trainable params: 286,151\n",
      "Non-trainable params: 0\n",
      "_________________________________________________________________\n"
     ]
    }
   ],
   "source": [
    "\n",
    "model = Sequential()\n",
    "\n",
    "# Add the 1D CNN layers\n",
    "model.add(Conv1D(filters=64, kernel_size=3, activation='relu', input_shape=(x_train_t.shape[1], 1)))\n",
    "model.add(Conv1D(filters=64, kernel_size=3, activation='relu'))\n",
    "#model.add(Conv1D(filters=64, kernel_size=3, activation='relu'))\n",
    "\n",
    "# Add the GRU layers\n",
    "model.add(GRU(units=128, return_sequences=True))\n",
    "model.add(GRU(units=128, return_sequences=True))\n",
    "model.add(GRU(units=128))\n",
    "\n",
    "# Add the output layer\n",
    "model.add(Dense(train_labels.shape[1], activation='softmax'))\n",
    "model.summary()"
   ]
  },
  {
   "cell_type": "markdown",
   "id": "3bba84d9",
   "metadata": {},
   "source": [
    "### Training the data"
   ]
  },
  {
   "cell_type": "code",
   "execution_count": 51,
   "id": "24c2b478",
   "metadata": {},
   "outputs": [
    {
     "name": "stdout",
     "output_type": "stream",
     "text": [
      "Epoch 1/75\n",
      "4470/4470 [==============================] - 102s 22ms/step - loss: 1.3840 - accuracy: 0.4253 - val_loss: 1.1829 - val_accuracy: 0.5210\n",
      "Epoch 2/75\n",
      "4470/4470 [==============================] - 92s 21ms/step - loss: 1.0139 - accuracy: 0.5720 - val_loss: 0.9507 - val_accuracy: 0.5852\n",
      "Epoch 3/75\n",
      "4470/4470 [==============================] - 95s 21ms/step - loss: 0.8537 - accuracy: 0.6200 - val_loss: 0.7942 - val_accuracy: 0.6372\n",
      "Epoch 4/75\n",
      "4470/4470 [==============================] - 105s 24ms/step - loss: 0.7896 - accuracy: 0.6416 - val_loss: 0.7616 - val_accuracy: 0.6465\n",
      "Epoch 5/75\n",
      "4470/4470 [==============================] - 110s 25ms/step - loss: 0.7484 - accuracy: 0.6528 - val_loss: 0.7295 - val_accuracy: 0.6581\n",
      "Epoch 6/75\n",
      "4470/4470 [==============================] - 100s 22ms/step - loss: 0.7237 - accuracy: 0.6617 - val_loss: 0.7538 - val_accuracy: 0.6466\n",
      "Epoch 7/75\n",
      "4470/4470 [==============================] - 100s 22ms/step - loss: 0.7036 - accuracy: 0.6684 - val_loss: 0.6977 - val_accuracy: 0.6689\n",
      "Epoch 8/75\n",
      "4470/4470 [==============================] - 101s 23ms/step - loss: 0.6922 - accuracy: 0.6723 - val_loss: 0.6892 - val_accuracy: 0.6696\n",
      "Epoch 9/75\n",
      "4470/4470 [==============================] - 100s 22ms/step - loss: 0.6742 - accuracy: 0.6779 - val_loss: 0.6703 - val_accuracy: 0.6761\n",
      "Epoch 10/75\n",
      "4470/4470 [==============================] - 100s 22ms/step - loss: 0.6770 - accuracy: 0.6782 - val_loss: 0.6686 - val_accuracy: 0.6764\n",
      "Epoch 11/75\n",
      "4470/4470 [==============================] - 99s 22ms/step - loss: 0.6546 - accuracy: 0.6851 - val_loss: 0.6512 - val_accuracy: 0.6861\n",
      "Epoch 12/75\n",
      "4470/4470 [==============================] - 104s 23ms/step - loss: 0.6460 - accuracy: 0.6891 - val_loss: 0.6548 - val_accuracy: 0.6841\n",
      "Epoch 13/75\n",
      "4470/4470 [==============================] - 101s 23ms/step - loss: 0.6367 - accuracy: 0.6919 - val_loss: 0.6432 - val_accuracy: 0.6921\n",
      "Epoch 14/75\n",
      "4470/4470 [==============================] - 102s 23ms/step - loss: 0.6412 - accuracy: 0.6924 - val_loss: 0.6354 - val_accuracy: 0.6901\n",
      "Epoch 15/75\n",
      "4470/4470 [==============================] - 101s 23ms/step - loss: 0.6285 - accuracy: 0.6965 - val_loss: 0.6327 - val_accuracy: 0.6889\n",
      "Epoch 16/75\n",
      "4470/4470 [==============================] - 100s 22ms/step - loss: 0.6291 - accuracy: 0.6976 - val_loss: 0.6576 - val_accuracy: 0.6809\n",
      "Epoch 17/75\n",
      "4470/4470 [==============================] - 101s 22ms/step - loss: 0.6138 - accuracy: 0.7023 - val_loss: 0.6316 - val_accuracy: 0.6929\n",
      "Epoch 18/75\n",
      "4470/4470 [==============================] - 101s 23ms/step - loss: 0.6209 - accuracy: 0.7016 - val_loss: 0.6424 - val_accuracy: 0.6890\n",
      "Epoch 19/75\n",
      "4470/4470 [==============================] - 102s 23ms/step - loss: 0.6099 - accuracy: 0.7048 - val_loss: 0.6232 - val_accuracy: 0.6937\n",
      "Epoch 20/75\n",
      "4470/4470 [==============================] - 103s 23ms/step - loss: 0.5992 - accuracy: 0.7088 - val_loss: 0.6320 - val_accuracy: 0.6893\n",
      "Epoch 21/75\n",
      "4470/4470 [==============================] - 103s 23ms/step - loss: 0.6012 - accuracy: 0.7093 - val_loss: 0.6260 - val_accuracy: 0.6926\n",
      "Epoch 22/75\n",
      "4470/4470 [==============================] - 102s 23ms/step - loss: 0.5942 - accuracy: 0.7121 - val_loss: 0.6143 - val_accuracy: 0.6967\n",
      "Epoch 23/75\n",
      "4470/4470 [==============================] - 102s 23ms/step - loss: 0.5879 - accuracy: 0.7145 - val_loss: 0.6068 - val_accuracy: 0.7046\n",
      "Epoch 24/75\n",
      "4470/4470 [==============================] - 105s 23ms/step - loss: 0.5848 - accuracy: 0.7158 - val_loss: 0.5996 - val_accuracy: 0.7054\n",
      "Epoch 25/75\n",
      "4470/4470 [==============================] - 103s 23ms/step - loss: 0.5840 - accuracy: 0.7167 - val_loss: 0.5973 - val_accuracy: 0.7047\n",
      "Epoch 26/75\n",
      "4470/4470 [==============================] - 104s 23ms/step - loss: 0.5838 - accuracy: 0.7173 - val_loss: 0.6907 - val_accuracy: 0.6741\n",
      "Epoch 27/75\n",
      "4470/4470 [==============================] - 103s 23ms/step - loss: 0.5747 - accuracy: 0.7212 - val_loss: 0.5887 - val_accuracy: 0.7108\n",
      "Epoch 28/75\n",
      "4470/4470 [==============================] - 104s 23ms/step - loss: 0.5707 - accuracy: 0.7229 - val_loss: 0.6082 - val_accuracy: 0.7074\n",
      "Epoch 29/75\n",
      "4470/4470 [==============================] - 105s 23ms/step - loss: 0.5680 - accuracy: 0.7244 - val_loss: 0.5933 - val_accuracy: 0.7044\n",
      "Epoch 30/75\n",
      "4470/4470 [==============================] - 104s 23ms/step - loss: 0.5677 - accuracy: 0.7253 - val_loss: 0.5840 - val_accuracy: 0.7155\n",
      "Epoch 31/75\n",
      "4470/4470 [==============================] - 106s 24ms/step - loss: 0.5597 - accuracy: 0.7274 - val_loss: 0.5889 - val_accuracy: 0.7124\n",
      "Epoch 32/75\n",
      "4470/4470 [==============================] - 106s 24ms/step - loss: 0.5573 - accuracy: 0.7285 - val_loss: 0.5935 - val_accuracy: 0.7145\n",
      "Epoch 33/75\n",
      "4470/4470 [==============================] - 115s 26ms/step - loss: 0.5549 - accuracy: 0.7303 - val_loss: 0.5945 - val_accuracy: 0.7105\n",
      "Epoch 34/75\n",
      "4470/4470 [==============================] - 117s 26ms/step - loss: 0.5505 - accuracy: 0.7313 - val_loss: 0.5758 - val_accuracy: 0.7190\n",
      "Epoch 35/75\n",
      "4470/4470 [==============================] - 114s 26ms/step - loss: 0.5486 - accuracy: 0.7331 - val_loss: 0.5759 - val_accuracy: 0.7159\n",
      "Epoch 36/75\n",
      "4470/4470 [==============================] - 123s 27ms/step - loss: 0.5440 - accuracy: 0.7345 - val_loss: 0.5761 - val_accuracy: 0.7151\n",
      "Epoch 37/75\n",
      "4470/4470 [==============================] - 120s 27ms/step - loss: 0.5433 - accuracy: 0.7350 - val_loss: 0.5685 - val_accuracy: 0.7167\n",
      "Epoch 38/75\n",
      "4470/4470 [==============================] - 112s 25ms/step - loss: 0.5401 - accuracy: 0.7360 - val_loss: 0.5700 - val_accuracy: 0.7193\n",
      "Epoch 39/75\n",
      "4470/4470 [==============================] - 92s 21ms/step - loss: 0.5386 - accuracy: 0.7376 - val_loss: 0.5631 - val_accuracy: 0.7270\n",
      "Epoch 40/75\n",
      "4470/4470 [==============================] - 94s 21ms/step - loss: 0.5335 - accuracy: 0.7392 - val_loss: 0.5621 - val_accuracy: 0.7233\n",
      "Epoch 41/75\n",
      "4470/4470 [==============================] - 96s 21ms/step - loss: 0.5337 - accuracy: 0.7392 - val_loss: 0.5620 - val_accuracy: 0.7244\n",
      "Epoch 42/75\n",
      "4470/4470 [==============================] - 96s 21ms/step - loss: 0.5317 - accuracy: 0.7401 - val_loss: 0.5997 - val_accuracy: 0.7051\n",
      "Epoch 43/75\n",
      "4470/4470 [==============================] - 95s 21ms/step - loss: 0.5299 - accuracy: 0.7410 - val_loss: 0.5799 - val_accuracy: 0.7173\n",
      "Epoch 44/75\n",
      "4470/4470 [==============================] - 96s 21ms/step - loss: 0.5267 - accuracy: 0.7430 - val_loss: 0.5559 - val_accuracy: 0.7254\n",
      "Epoch 45/75\n",
      "4470/4470 [==============================] - 95s 21ms/step - loss: 0.5281 - accuracy: 0.7418 - val_loss: 0.5543 - val_accuracy: 0.7250\n",
      "Epoch 46/75\n",
      "4470/4470 [==============================] - 98s 22ms/step - loss: 0.5234 - accuracy: 0.7435 - val_loss: 0.5674 - val_accuracy: 0.7189\n",
      "Epoch 47/75\n",
      "4470/4470 [==============================] - 101s 23ms/step - loss: 0.5225 - accuracy: 0.7441 - val_loss: 0.5509 - val_accuracy: 0.7267\n",
      "Epoch 48/75\n",
      "4470/4470 [==============================] - 100s 22ms/step - loss: 0.5223 - accuracy: 0.7442 - val_loss: 0.5710 - val_accuracy: 0.7232\n",
      "Epoch 49/75\n",
      "4470/4470 [==============================] - 102s 23ms/step - loss: 0.5199 - accuracy: 0.7459 - val_loss: 0.5553 - val_accuracy: 0.7262\n",
      "Epoch 50/75\n",
      "4470/4470 [==============================] - 99s 22ms/step - loss: 0.5185 - accuracy: 0.7459 - val_loss: 0.5873 - val_accuracy: 0.7153\n",
      "Epoch 51/75\n",
      "4470/4470 [==============================] - 102s 23ms/step - loss: 0.5164 - accuracy: 0.7463 - val_loss: 0.5693 - val_accuracy: 0.7212\n",
      "Epoch 52/75\n",
      "4470/4470 [==============================] - 101s 23ms/step - loss: 0.5164 - accuracy: 0.7466 - val_loss: 0.5563 - val_accuracy: 0.7255\n",
      "Epoch 52: early stopping\n"
     ]
    }
   ],
   "source": [
    "# Compile the model\n",
    "model.compile(optimizer='adam', loss='categorical_crossentropy', metrics=['accuracy'])\n",
    "es = EarlyStopping(monitor='val_loss', mode='min', verbose=1,patience=5)\n",
    "# Train the model\n",
    "history=model.fit(x_train_t,train_labels, batch_size=64, epochs=75, validation_data=(x_test_t,test_labels),callbacks=[es])"
   ]
  },
  {
   "cell_type": "code",
   "execution_count": 52,
   "id": "c669d81d",
   "metadata": {},
   "outputs": [
    {
     "name": "stdout",
     "output_type": "stream",
     "text": [
      "2235/2235 [==============================] - 13s 5ms/step\n"
     ]
    }
   ],
   "source": [
    "y_predict=model.predict(x_test_t)\n",
    "final=[]\n",
    "for i in y_predict:\n",
    "    max_index=np.argmax(i)\n",
    "    binary_output=np.zeros_like(i)\n",
    "    binary_output[max_index]=1\n",
    "    final.append(binary_output)\n",
    "    \n",
    "final_test = []\n",
    "\n",
    "# iterate over the list and find the index of elements with value 1\n",
    "for my_list in test_labels:\n",
    "    for i in range(len(my_list)):\n",
    "        if my_list[i] == 1:\n",
    "            final_test.append(i)\n",
    "            \n",
    "final_predict = []\n",
    "\n",
    "# iterate over the list and find the index of elements with value 1\n",
    "for my_list in final:\n",
    "    for i in range(len(my_list)):\n",
    "        if my_list[i] == 1:\n",
    "            final_predict.append(i)\n"
   ]
  },
  {
   "cell_type": "markdown",
   "id": "b13df2fc",
   "metadata": {},
   "source": [
    "### Confision matrix"
   ]
  },
  {
   "cell_type": "code",
   "execution_count": 53,
   "id": "a1e639cb",
   "metadata": {},
   "outputs": [
    {
     "name": "stdout",
     "output_type": "stream",
     "text": [
      "[[ 8587    23     0    23     5    53  1601]\n",
      " [   65  6511     0  3072   325    26   247]\n",
      " [    0     0 10167     0     0     0     0]\n",
      " [   52  4492     0  5188   363    27   220]\n",
      " [    1   214     0   149  9677     7    90]\n",
      " [   37    13     0     8    18  9788   179]\n",
      " [ 5138  1007     0   686   808   682  1968]]\n"
     ]
    },
    {
     "data": {
      "image/png": "[encoded data removed]",
      "text/plain": [
       "<Figure size 432x288 with 2 Axes>"
      ]
     },
     "metadata": {
      "needs_background": "light"
     },
     "output_type": "display_data"
    }
   ],
   "source": [
    "from sklearn.metrics import confusion_matrix\n",
    "\n",
    "\n",
    "\n",
    "# create confusion matrix\n",
    "cm = confusion_matrix(final_test,final_predict)\n",
    "\n",
    "# print confusion matrix\n",
    "print(cm)\n",
    "import seaborn as sns\n",
    "sns.heatmap(cm, annot=True, cmap=\"Blues\", fmt=\"d\", xticklabels=np.unique(final_test), yticklabels=np.unique(final_test))\n",
    "\n",
    "# add labels and title\n",
    "plt.title('Confusion Matrix')\n",
    "plt.xlabel('Predicted Labels')\n",
    "plt.ylabel('True Labels')\n",
    "\n",
    "# show plot\n",
    "plt.show()"
   ]
  },
  {
   "cell_type": "markdown",
   "id": "1cd3467c",
   "metadata": {},
   "source": [
    "### Classification Report"
   ]
  },
  {
   "cell_type": "code",
   "execution_count": 54,
   "id": "689ac592",
   "metadata": {},
   "outputs": [
    {
     "name": "stdout",
     "output_type": "stream",
     "text": [
      "              precision    recall  f1-score   support\n",
      "\n",
      "           0       0.62      0.83      0.71     10292\n",
      "           1       0.53      0.64      0.58     10246\n",
      "           2       1.00      1.00      1.00     10167\n",
      "           3       0.57      0.50      0.53     10342\n",
      "           4       0.86      0.95      0.91     10138\n",
      "           5       0.92      0.97      0.95     10043\n",
      "           6       0.46      0.19      0.27     10289\n",
      "\n",
      "    accuracy                           0.73     71517\n",
      "   macro avg       0.71      0.73      0.71     71517\n",
      "weighted avg       0.71      0.73      0.71     71517\n",
      "\n"
     ]
    }
   ],
   "source": [
    "from sklearn.metrics import classification_report\n",
    "print(classification_report(final_test,final_predict))\n",
    "  "
   ]
  },
  {
   "cell_type": "markdown",
   "id": "7f070588",
   "metadata": {},
   "source": [
    "### Saving Model"
   ]
  },
  {
   "cell_type": "code",
   "execution_count": 55,
   "id": "46d24597",
   "metadata": {},
   "outputs": [
    {
     "name": "stderr",
     "output_type": "stream",
     "text": [
      "WARNING:absl:Found untraced functions such as _jit_compiled_convolution_op, _jit_compiled_convolution_op, gru_cell_6_layer_call_fn, gru_cell_6_layer_call_and_return_conditional_losses, gru_cell_7_layer_call_fn while saving (showing 5 of 8). These functions will not be directly callable after loading.\n"
     ]
    },
    {
     "name": "stdout",
     "output_type": "stream",
     "text": [
      "INFO:tensorflow:Assets written to: model-F3-M1-64\\assets\n"
     ]
    },
    {
     "name": "stderr",
     "output_type": "stream",
     "text": [
      "INFO:tensorflow:Assets written to: model-F3-M1-64\\assets\n"
     ]
    }
   ],
   "source": [
    "model.save('model-F3-M1-64')\n",
    "\n",
    "# Save only the model weights\n",
    "model.save_weights('model-F3-M1-64')"
   ]
  },
  {
   "cell_type": "code",
   "execution_count": 57,
   "id": "123890fa",
   "metadata": {},
   "outputs": [
    {
     "data": {
      "text/plain": [
       "<tensorflow.python.checkpoint.checkpoint.CheckpointLoadStatus at 0x1d725dd9ee0>"
      ]
     },
     "execution_count": 57,
     "metadata": {},
     "output_type": "execute_result"
    }
   ],
   "source": [
    "# Load the entire model\n",
    "model = tensorflow.keras.models.load_model('model-F3-M1-64')\n",
    "\n",
    "# Load only the model weights\n",
    "model.load_weights('model-F3-M1-64')"
   ]
  },
  {
   "cell_type": "markdown",
   "id": "37dd36a9",
   "metadata": {},
   "source": [
    "### Accuracy graph"
   ]
  },
  {
   "cell_type": "code",
   "execution_count": 60,
   "id": "b5b27d12",
   "metadata": {},
   "outputs": [
    {
     "data": {
      "image/png": "[encoded data removed]",
      "text/plain": [
       "<Figure size 432x288 with 1 Axes>"
      ]
     },
     "metadata": {
      "needs_background": "light"
     },
     "output_type": "display_data"
    }
   ],
   "source": [
    "import matplotlib.pyplot as plt\n",
    "train_accuracy = history.history['accuracy']\n",
    "validation_accuracy = history.history['val_accuracy']\n",
    "epochs = range(0,52)\n",
    "plt.plot(epochs,train_accuracy,'g',label='Training Accuracy')\n",
    "plt.plot(epochs,validation_accuracy,'b',label='Validation Accuracy')\n",
    "plt.title('Training Vs Validation Accuracy')\n",
    "plt.xlabel('Epochs')\n",
    "plt.ylabel('Accuracy')\n",
    "plt.legend()\n",
    "plt.show()"
   ]
  },
  {
   "cell_type": "markdown",
   "id": "f6398f19",
   "metadata": {},
   "source": [
    "### Loss graph"
   ]
  },
  {
   "cell_type": "code",
   "execution_count": 61,
   "id": "3fc5fc9a",
   "metadata": {},
   "outputs": [
    {
     "data": {
      "image/png": "[encoded data removed]",
      "text/plain": [
       "<Figure size 432x288 with 1 Axes>"
      ]
     },
     "metadata": {
      "needs_background": "light"
     },
     "output_type": "display_data"
    }
   ],
   "source": [
    "import matplotlib.pyplot as plt\n",
    "train_loss = history.history['loss']\n",
    "val_loss = history.history['val_loss']\n",
    "epochs = range(0,52)\n",
    "plt.plot(epochs,train_loss,'g', label='Training Loss')\n",
    "plt.plot(epochs, val_loss, 'b', label='validation Loss')\n",
    "plt.title('Training and Validation Loss')\n",
    "plt.xlabel('Epochs')\n",
    "plt.ylabel('Accuracy')\n",
    "plt.legend()\n",
    "plt.show()"
   ]
  },
  {
   "cell_type": "markdown",
   "id": "3272e8e9",
   "metadata": {},
   "source": [
    "### Prediction"
   ]
  },
  {
   "cell_type": "code",
   "execution_count": 73,
   "id": "c1430989",
   "metadata": {},
   "outputs": [],
   "source": [
    "def predict(a,b,c,d,e,f,g,h,i):\n",
    "    test=[[a,b,c,d,e,f,g,h,i]]\n",
    "    import tensorflow as tf\n",
    "    test=np.asarray(test)\n",
    "    test=test.reshape(-1, test.shape[1], 1)\n",
    "     # Load the entire model\n",
    "    model1 = tf.keras.models.load_model('model-F3-M1-64')\n",
    "    # Load only the model weights\n",
    "    model1.load_weights('model-F3-M1-64')\n",
    "    y_predict=model1.predict(test)\n",
    "    #print(y_predict)\n",
    "    final=[]\n",
    "    for i in y_predict:\n",
    "        max_index=np.argmax(i)\n",
    "        binary_output=np.zeros_like(i)\n",
    "        binary_output[max_index]=1\n",
    "        final.append(binary_output)\n",
    "        #print(final)\n",
    "    final_test = []\n",
    "\n",
    "# iterate over the list and find the index of elements with value 1\n",
    "    for my_list in final:\n",
    "        for i in range(len(my_list)):\n",
    "            if my_list[i] == 1:\n",
    "                final_test.append(i)\n",
    "    print(final_test)\n",
    "    \n",
    "\n",
    "    for i in range(len(final_test)):\n",
    "        if final_test[i] == 0:\n",
    "            output= \"Consumer belongs to normal type\"\n",
    "        elif final_test[i] == 1:\n",
    "            output= \"Consumer belongs to theft 1 type\"\n",
    "        elif final_test[i] == 2:\n",
    "            output= \"Consumer belongs to theft 2 type\"\n",
    "        elif final_test[i] == 3:\n",
    "            output= \"Consumer belongs to theft 3 type\"\n",
    "        elif final_test[i] == 4:\n",
    "            output= \"Consumer belongs to theft 4 type\"\n",
    "        elif final_test[i] == 5:\n",
    "            output= \"Consumer belongs to theft 5 type\"\n",
    "        elif final_test[i] == 6:\n",
    "            output= \"Consumer belongs to theft 6 type\"\n",
    "    output = output"
   ]
  },
  {
   "cell_type": "code",
   "execution_count": 70,
   "id": "897bf780",
   "metadata": {},
   "outputs": [],
   "source": [
    "import warnings\n",
    "warnings.filterwarnings(\"ignore\")"
   ]
  },
  {
   "cell_type": "code",
   "execution_count": 79,
   "id": "d04d0b80",
   "metadata": {},
   "outputs": [],
   "source": [
    "def predict(a,b,c,d,e,f,g,h,i):\n",
    "    test=[[a,b,c,d,e,f,g,h,i]]\n",
    "    import tensorflow as tf\n",
    "    test=np.asarray(test)\n",
    "    test=test.reshape(-1, test.shape[1], 1)\n",
    "     # Load the entire model\n",
    "    \n",
    "    y_predict=model.predict(test)\n",
    "    #print(y_predict)\n",
    "    final=[]\n",
    "    for i in y_predict:\n",
    "        max_index=np.argmax(i)\n",
    "        binary_output=np.zeros_like(i)\n",
    "        binary_output[max_index]=1\n",
    "        final.append(binary_output)\n",
    "        #print(final)\n",
    "    final_test = []\n",
    "\n",
    "# iterate over the list and find the index of elements with value 1\n",
    "    for my_list in final:\n",
    "        for i in range(len(my_list)):\n",
    "            if my_list[i] == 1:\n",
    "                final_test.append(i)\n",
    "    \n",
    "    \n",
    "\n",
    "    for i in range(len(final_test)):\n",
    "        if final_test[i] == 0:\n",
    "            output= \"Consumer belongs to normal type\"\n",
    "        elif final_test[i] == 1:\n",
    "            output= \"Consumer belongs to theft 1 type\"\n",
    "        elif final_test[i] == 2:\n",
    "            output= \"Consumer belongs to theft 2 type\"\n",
    "        elif final_test[i] == 3:\n",
    "            output= \"Consumer belongs to theft 3 type\"\n",
    "        elif final_test[i] == 4:\n",
    "            output= \"Consumer belongs to theft 4 type\"\n",
    "        elif final_test[i] == 5:\n",
    "            output= \"Consumer belongs to theft 5 type\"\n",
    "        elif final_test[i] == 6:\n",
    "            output= \"Consumer belongs to theft 6 type\"\n",
    "    return output"
   ]
  },
  {
   "cell_type": "code",
   "execution_count": 80,
   "id": "a9b865d6",
   "metadata": {},
   "outputs": [
    {
     "name": "stdout",
     "output_type": "stream",
     "text": [
      "1/1 [==============================] - 0s 91ms/step\n"
     ]
    },
    {
     "data": {
      "text/plain": [
       "'Consumer belongs to theft 6 type'"
      ]
     },
     "execution_count": 80,
     "metadata": {},
     "output_type": "execute_result"
    }
   ],
   "source": [
    "predict(58.661057,16.292027 ,15.961208 ,2.732531 ,23.612374 ,70.015399 ,66.085761 ,3.616971 ,0.312667)"
   ]
  },
  {
   "cell_type": "code",
   "execution_count": 81,
   "id": "114b0142",
   "metadata": {},
   "outputs": [
    {
     "name": "stdout",
     "output_type": "stream",
     "text": [
      "1/1 [==============================] - 2s 2s/step\n"
     ]
    },
    {
     "data": {
      "text/plain": [
       "'Consumer belongs to theft 2 type'"
      ]
     },
     "execution_count": 81,
     "metadata": {},
     "output_type": "execute_result"
    }
   ],
   "source": [
    "predict(0,0,0,0,0,0,0,0,0)"
   ]
  },
  {
   "cell_type": "code",
   "execution_count": null,
   "id": "a0128f92",
   "metadata": {},
   "outputs": [],
   "source": []
  }
 ],
 "metadata": {
  "kernelspec": {
   "display_name": "Python 3",
   "language": "python",
   "name": "python3"
  },
  "language_info": {
   "codemirror_mode": {
    "name": "ipython",
    "version": 3
   },
   "file_extension": ".py",
   "mimetype": "text/x-python",
   "name": "python",
   "nbconvert_exporter": "python",
   "pygments_lexer": "ipython3",
   "version": "3.8.8"
  }
 },
 "nbformat": 4,
 "nbformat_minor": 5
}
